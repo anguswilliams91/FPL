{
 "cells": [
  {
   "cell_type": "code",
   "execution_count": null,
   "metadata": {},
   "outputs": [],
   "source": [
    "from adjustText import adjust_text\n",
    "import matplotlib.pyplot as plt\n",
    "import numpy as np\n",
    "import pandas as pd\n",
    "import pystan\n",
    "import seaborn as sns\n",
    "\n",
    "import premierleague as p\n",
    "\n",
    "%matplotlib inline\n",
    "plt.rcParams['figure.figsize'] = (10, 5)\n",
    "plt.rcParams['font.size'] = 13"
   ]
  },
  {
   "cell_type": "markdown",
   "metadata": {},
   "source": [
    "# Exploration of simple extension of D&C"
   ]
  },
  {
   "cell_type": "code",
   "execution_count": null,
   "metadata": {},
   "outputs": [],
   "source": [
    "data, prior_data, teams = p.load_data()\n",
    "data.head()"
   ]
  },
  {
   "cell_type": "code",
   "execution_count": null,
   "metadata": {},
   "outputs": [],
   "source": [
    "sns.countplot(data['FTHG']);"
   ]
  },
  {
   "cell_type": "code",
   "execution_count": null,
   "metadata": {},
   "outputs": [],
   "source": [
    "sns.countplot(data['FTAG']);"
   ]
  },
  {
   "cell_type": "code",
   "execution_count": null,
   "metadata": {},
   "outputs": [],
   "source": [
    "counts = data.groupby(['FTHG', 'FTAG']).count()['Div'].unstack().fillna(0)\n",
    "\n",
    "fig, ax = plt.subplots(figsize=(10, 10))\n",
    "img = ax.imshow(counts, origin='lower', cmap=\"Blues\")\n",
    "ax.set_xticks(data['FTAG'].unique())\n",
    "ax.set_yticks(data['FTHG'].unique())\n",
    "ax.set_xlabel(\"Away Goals\")\n",
    "ax.set_ylabel(\"Home Goals\")\n",
    "plt.colorbar(img, orientation='horizontal', ax=ax, label=\"Number of matches\");"
   ]
  },
  {
   "cell_type": "code",
   "execution_count": null,
   "metadata": {},
   "outputs": [],
   "source": [
    "avg_scored = .5*(data.groupby('HomeTeam')['FTHG'].mean() + data.groupby('AwayTeam')['FTAG'].mean())\n",
    "avg_conceded = .5*(data.groupby('HomeTeam')['FTAG'].mean() + data.groupby('AwayTeam')['FTHG'].mean())\n",
    "\n",
    "fig, ax = plt.subplots()\n",
    "ax.scatter(avg_scored, avg_conceded)\n",
    "texts = []\n",
    "for ai,bi,s in zip(avg_scored, avg_conceded, teams):\n",
    "    texts.append(plt.text(ai, bi, s, size=9))\n",
    "adjust_text(texts, arrowprops=dict(arrowstyle=\"-\", color='k', lw=0.))\n",
    "plt.xlabel(\"Average goals scored\")\n",
    "plt.ylabel(\"Average goals conceded\");"
   ]
  },
  {
   "cell_type": "code",
   "execution_count": null,
   "metadata": {},
   "outputs": [],
   "source": [
    "fit = p.fit_model(\"premierleague_1.stan\", chains=4, iter=5000, seed=42)"
   ]
  },
  {
   "cell_type": "code",
   "execution_count": null,
   "metadata": {},
   "outputs": [],
   "source": [
    "home_goals = fit['home_goals_sim']\n",
    "away_goals = fit['away_goals_sim']\n",
    "\n",
    "def plot_result_counts(ax, i=None, cmap=\"Reds\"):\n",
    "    # plot the distribution of scorelines\n",
    "    if i is None:\n",
    "        counts = data.groupby(['FTHG', 'FTAG']).count()['Div'].unstack().fillna(0)\n",
    "    else:\n",
    "        df = pd.DataFrame({'FTHG': home_goals[i], 'FTAG': away_goals[i], 'dummy': np.arange(380)})\n",
    "        counts = df.groupby(['FTHG', 'FTAG']).count()['dummy'].unstack().fillna(0)\n",
    "    pads = [10 - si for si in counts.shape]\n",
    "    counts = np.pad(counts, pad_width=((0, pads[0]), (0, pads[1])), mode='constant', constant_values=0) \n",
    "    ax.imshow(counts, origin='lower', cmap=cmap)\n",
    "    ax.set_xticks([])\n",
    "    ax.set_yticks([])\n",
    "\n",
    "fig, ax = plt.subplots(4, 4, figsize=(10, 10))\n",
    "i = np.random.randint(0, home_goals.shape[0], 15)\n",
    "for j, axi in enumerate(ax.ravel()):\n",
    "    k = i[j-1] if j!=0 else None\n",
    "    cmap = \"Reds\" if j!=0 else \"Blues\"\n",
    "    plot_result_counts(axi, i=k, cmap=cmap)\n",
    "fig.text(0.47, 0.07, \"Away goals\")\n",
    "fig.text(0.07, 0.55, \"Home goals\", rotation=90);"
   ]
  },
  {
   "cell_type": "code",
   "execution_count": null,
   "metadata": {},
   "outputs": [],
   "source": [
    "fig, ax = plt.subplots(4, 4, figsize=(10, 10))\n",
    "for j, axi in enumerate(ax.ravel()):\n",
    "    k = i[j-1] if j!=0 else None\n",
    "    if j==0:\n",
    "        sns.countplot(data['FTHG'].values, color='b', ax=axi)\n",
    "    else:\n",
    "        sns.countplot(home_goals[k], color='r', ax=axi)\n",
    "    axi.set_xlim([-1, 10])\n",
    "    axi.set_xticks([])\n",
    "    axi.set_yticks([])\n",
    "    axi.set_ylabel(\"\")\n",
    "fig.text(0.45, 0.07, \"Home goals\");"
   ]
  },
  {
   "cell_type": "code",
   "execution_count": null,
   "metadata": {},
   "outputs": [],
   "source": [
    "fig, ax = plt.subplots(4, 4, figsize=(10, 10))\n",
    "for j, axi in enumerate(ax.ravel()):\n",
    "    k = i[j-1] if j!=0 else None\n",
    "    if j==0:\n",
    "        sns.countplot(data['FTAG'].values, color='b', ax=axi)\n",
    "    else:\n",
    "        sns.countplot(away_goals[k], color='r', ax=axi)\n",
    "    axi.set_xlim([-1, 10])\n",
    "    axi.set_xticks([])\n",
    "    axi.set_yticks([])\n",
    "    axi.set_ylabel(\"\")\n",
    "fig.text(0.45, 0.07, \"Away goals\");"
   ]
  },
  {
   "cell_type": "markdown",
   "metadata": {},
   "source": [
    "Dixon & Coles suggest that there's some correlation between the home and away scorelines for low scoring matches. They test this by computing the empirical probabilities (i.e. counts/total) for each team scoring 0 or 1 goals, and divide by the product of the marginals. Following their approach (but Bayesian), I define the following test statistic:\n",
    "\n",
    "$$T(y) = \\frac{N_\\mathrm{games}}{4}\\sum\\limits_{i=0}^1\\sum\\limits_{j=0}^1 \\dfrac{N_\\mathrm{joint}(i, j)}{N_\\mathrm{home}(i)N_\\mathrm{away}(j)},$$\n",
    "\n",
    "where $N_\\mathrm{joint}(i, j)$ is the number of games where the home team scored $i$ goals and the away team scored $j$ goals, $N_\\mathrm{home}(i)$ is the number of games where the home team scored $i$ goals and $N_\\mathrm{away}(j)$ is the number of games where the away team scored $j$ goals."
   ]
  },
  {
   "cell_type": "code",
   "execution_count": null,
   "metadata": {},
   "outputs": [],
   "source": [
    "counts = data.groupby(['FTHG', 'FTAG']).count()['Div'].unstack().fillna(0).as_matrix()\n",
    "T_corr = np.array(\n",
    "    [380*counts[i, j]/(counts[i, :].sum()*counts[:, j].sum()) for i in [0,1] for j in [0,1]]\n",
    ").sum()/4\n",
    "\n",
    "def T_corr_rep_fn(i):\n",
    "    df = pd.DataFrame({'FTHG': home_goals[i], 'FTAG': away_goals[i], 'dummy': np.arange(380)})\n",
    "    counts = df.groupby(['FTHG', 'FTAG']).count()['dummy'].unstack().fillna(0).as_matrix()\n",
    "    return np.array(\n",
    "        [380*counts[i, j]/(counts[i, :].sum()*counts[:, j].sum()) for i in [0,1] for j in [0,1]]\n",
    "    ).sum()/4\n",
    "\n",
    "T_corr_rep = np.array([T_corr_rep_fn(i) for i in range(home_goals.shape[0])])\n",
    "p_corr = (T_corr_rep >= T_corr).sum() / len(T_corr_rep)\n",
    "\n",
    "sns.distplot(T_corr_rep, kde=False)\n",
    "plt.axvline(T_corr, c='k', ls='--')\n",
    "plt.xlabel(r\"$T(y)$\")\n",
    "plt.text(0.8, 550, r\"$p = {:.2f}$\".format(p_corr), fontsize=15)"
   ]
  },
  {
   "cell_type": "markdown",
   "metadata": {},
   "source": [
    "The observed outcome is not in huge tension with the data, although the $p$-value is somewhat close to 1. Given the fact that someone else pointed this out for a *different* set of football data, perhaps we should lend more weight to this result. I also suspect that the highest number of goals scored is a bit extreme in the model as well."
   ]
  },
  {
   "cell_type": "code",
   "execution_count": null,
   "metadata": {},
   "outputs": [],
   "source": [
    "T_max = data[['FTAG', 'FTHG']].max().max()\n",
    "T_max_rep = np.max(\n",
    "    np.concatenate((home_goals, away_goals), axis=-1), axis=1\n",
    ")\n",
    "\n",
    "sns.countplot(T_max_rep)\n",
    "plt.axvline(2, c='k', ls='--')\n",
    "plt.xlabel(r\"$T(y)$\");"
   ]
  },
  {
   "cell_type": "markdown",
   "metadata": {},
   "source": [
    "Nope! It's fine. The test statistic looks Poisson distributed, which is probably what we'd expect (?) Deep breath...time to estimate generalisation errors. "
   ]
  },
  {
   "cell_type": "code",
   "execution_count": null,
   "metadata": {},
   "outputs": [],
   "source": [
    "data = data.set_index('Date')\n",
    "data.index = pd.to_datetime(data.index)\n",
    "data['Gameweek'] = data.index.year * 100 + data.index.week\n",
    "data['Gameweek'] = data['Gameweek'].diff(1).fillna(1.)\n",
    "data.loc[data['Gameweek'] != 0, 'Gameweek'] = 1.\n",
    "data['Gameweek'] = data['Gameweek'].cumsum().astype(int)"
   ]
  },
  {
   "cell_type": "code",
   "execution_count": null,
   "metadata": {},
   "outputs": [],
   "source": [
    "data_uptofinal = data[data['Gameweek'] < data['Gameweek'].max()]\n",
    "data_uptofinal_stan = {'nteams': len(teams),\n",
    "                       'ngames': len(data_uptofinal),\n",
    "                       'home_goals': data_uptofinal['FTHG'].values,\n",
    "                       'away_goals': data_uptofinal['FTAG'].values,\n",
    "                       'home_team': data_uptofinal['HomeTeam'].values,\n",
    "                       'away_team': data_uptofinal['AwayTeam'].values}\n",
    "sm = pystan.StanModel(file=\"premierleague_1.stan\")\n",
    "fit_uptofinal = sm.sampling(data=data_uptofinal_stan, chains=4, iter=3000, seed=42)"
   ]
  },
  {
   "cell_type": "code",
   "execution_count": null,
   "metadata": {},
   "outputs": [],
   "source": [
    "home_goals = fit['home_goals_sim']\n",
    "away_goals = fit['away_goals_sim']\n",
    "\n",
    "prob_home_win = (home_goals > away_goals).sum(axis=0) / home_goals.shape[0]\n",
    "prob_away_win = (home_goals < away_goals).sum(axis=0) / home_goals.shape[0]\n",
    "prob_draw = 1. - prob_home_win - prob_away_win\n",
    "\n",
    "data['model_home'] = prob_home_win\n",
    "data['model_away'] = prob_away_win\n",
    "data['model_draw'] = prob_draw"
   ]
  }
 ],
 "metadata": {
  "kernelspec": {
   "display_name": "Python 3",
   "language": "python",
   "name": "python3"
  },
  "language_info": {
   "codemirror_mode": {
    "name": "ipython",
    "version": 3
   },
   "file_extension": ".py",
   "mimetype": "text/x-python",
   "name": "python",
   "nbconvert_exporter": "python",
   "pygments_lexer": "ipython3",
   "version": "3.5.4"
  }
 },
 "nbformat": 4,
 "nbformat_minor": 2
}
